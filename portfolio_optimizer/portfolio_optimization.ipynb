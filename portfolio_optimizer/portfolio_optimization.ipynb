{
 "cells": [
  {
   "cell_type": "code",
   "execution_count": 2,
   "id": "e89df60c",
   "metadata": {
    "vscode": {
     "languageId": "plaintext"
    }
   },
   "outputs": [
    {
     "data": {
      "text/html": [
       "<div>\n",
       "<style scoped>\n",
       "    .dataframe tbody tr th:only-of-type {\n",
       "        vertical-align: middle;\n",
       "    }\n",
       "\n",
       "    .dataframe tbody tr th {\n",
       "        vertical-align: top;\n",
       "    }\n",
       "\n",
       "    .dataframe thead th {\n",
       "        text-align: right;\n",
       "    }\n",
       "</style>\n",
       "<table border=\"1\" class=\"dataframe\">\n",
       "  <thead>\n",
       "    <tr style=\"text-align: right;\">\n",
       "      <th></th>\n",
       "      <th>client_id</th>\n",
       "      <th>asset_class</th>\n",
       "      <th>allocation_percent</th>\n",
       "      <th>value</th>\n",
       "    </tr>\n",
       "  </thead>\n",
       "  <tbody>\n",
       "    <tr>\n",
       "      <th>0</th>\n",
       "      <td>1</td>\n",
       "      <td>Equities</td>\n",
       "      <td>22.72</td>\n",
       "      <td>41756.28</td>\n",
       "    </tr>\n",
       "    <tr>\n",
       "      <th>1</th>\n",
       "      <td>1</td>\n",
       "      <td>Fixed Income</td>\n",
       "      <td>24.72</td>\n",
       "      <td>45428.51</td>\n",
       "    </tr>\n",
       "    <tr>\n",
       "      <th>2</th>\n",
       "      <td>1</td>\n",
       "      <td>Real Estate</td>\n",
       "      <td>12.71</td>\n",
       "      <td>23355.61</td>\n",
       "    </tr>\n",
       "    <tr>\n",
       "      <th>3</th>\n",
       "      <td>1</td>\n",
       "      <td>Commodities</td>\n",
       "      <td>1.11</td>\n",
       "      <td>2037.62</td>\n",
       "    </tr>\n",
       "    <tr>\n",
       "      <th>4</th>\n",
       "      <td>1</td>\n",
       "      <td>Cash</td>\n",
       "      <td>38.74</td>\n",
       "      <td>71188.97</td>\n",
       "    </tr>\n",
       "  </tbody>\n",
       "</table>\n",
       "</div>"
      ],
      "text/plain": [
       "   client_id   asset_class  allocation_percent     value\n",
       "0          1      Equities               22.72  41756.28\n",
       "1          1  Fixed Income               24.72  45428.51\n",
       "2          1   Real Estate               12.71  23355.61\n",
       "3          1   Commodities                1.11   2037.62\n",
       "4          1          Cash               38.74  71188.97"
      ]
     },
     "execution_count": 2,
     "metadata": {},
     "output_type": "execute_result"
    }
   ],
   "source": [
    "from pypfopt import expected_returns, risk_models, EfficientFrontier\n",
    "import pandas as pd\n",
    "import numpy as np\n",
    "import matplotlib.pyplot as plt\n",
    "\n",
    "# Load your data\n",
    "df = pd.read_csv(\"../data/portfolios.csv\")\n",
    "\n",
    "# Preview the data\n",
    "df.head()\n"
   ]
  },
  {
   "cell_type": "code",
   "execution_count": 3,
   "id": "28d42a2f-8013-4d0e-9894-7ae54d268da2",
   "metadata": {},
   "outputs": [
    {
     "name": "stdout",
     "output_type": "stream",
     "text": [
      "\n",
      "🔹 Client 1 Portfolio Optimization:\n",
      "OrderedDict([('Equities', 0.0), ('Fixed Income', 0.16849), ('Real Estate', 0.20735), ('Commodities', 0.62416), ('Cash', 0.0)])\n",
      "Expected annual return: 25.1%\n",
      "Annual volatility: 9.2%\n",
      "Sharpe Ratio: 2.74\n",
      "\n",
      "🔹 Client 2 Portfolio Optimization:\n",
      "OrderedDict([('Equities', 0.0), ('Fixed Income', 0.0), ('Real Estate', 0.0), ('Commodities', 0.77953), ('Cash', 0.22047)])\n",
      "Expected annual return: 52.0%\n",
      "Annual volatility: 10.7%\n",
      "Sharpe Ratio: 4.86\n",
      "\n",
      "🔹 Client 3 Portfolio Optimization:\n",
      "OrderedDict([('Equities', 0.34619), ('Fixed Income', 0.14344), ('Real Estate', 0.00284), ('Commodities', 0.0), ('Cash', 0.50754)])\n",
      "Expected annual return: 61.9%\n",
      "Annual volatility: 8.2%\n",
      "Sharpe Ratio: 7.51\n",
      "\n",
      "🔹 Client 4 Portfolio Optimization:\n",
      "OrderedDict([('Equities', 0.0), ('Fixed Income', 0.63929), ('Real Estate', 0.15958), ('Commodities', 0.0), ('Cash', 0.20113)])\n",
      "Expected annual return: 37.6%\n",
      "Annual volatility: 10.0%\n",
      "Sharpe Ratio: 3.76\n",
      "\n",
      "🔹 Client 5 Portfolio Optimization:\n",
      "OrderedDict([('Equities', 0.0), ('Fixed Income', 0.0), ('Real Estate', 0.0), ('Commodities', 0.0), ('Cash', 1.0)])\n",
      "Expected annual return: 26.2%\n",
      "Annual volatility: 13.8%\n",
      "Sharpe Ratio: 1.90\n",
      "\n",
      "🔹 Client 6 Portfolio Optimization:\n",
      "OrderedDict([('Equities', 0.23138), ('Fixed Income', 0.18222), ('Real Estate', 0.38108), ('Commodities', 0.0), ('Cash', 0.20532)])\n",
      "Expected annual return: 11.6%\n",
      "Annual volatility: 7.3%\n",
      "Sharpe Ratio: 1.59\n",
      "\n",
      "🔹 Client 7 Portfolio Optimization:\n",
      "OrderedDict([('Equities', 0.0), ('Fixed Income', 0.0), ('Real Estate', 0.60811), ('Commodities', 0.34649), ('Cash', 0.0454)])\n",
      "Expected annual return: 25.4%\n",
      "Annual volatility: 10.8%\n",
      "Sharpe Ratio: 2.34\n",
      "\n",
      "🔹 Client 8 Portfolio Optimization:\n",
      "OrderedDict([('Equities', 0.20824), ('Fixed Income', 0.56384), ('Real Estate', 0.0), ('Commodities', 0.0), ('Cash', 0.22792)])\n",
      "Expected annual return: 24.7%\n",
      "Annual volatility: 9.5%\n",
      "Sharpe Ratio: 2.60\n",
      "\n",
      "⚠️ Skipping client 9 due to optimization error: at least one of the assets must have an expected return exceeding the risk-free rate\n",
      "\n",
      "🔹 Client 10 Portfolio Optimization:\n",
      "OrderedDict([('Equities', 0.35647), ('Fixed Income', 0.0), ('Real Estate', 0.0), ('Commodities', 0.0), ('Cash', 0.64353)])\n",
      "Expected annual return: 23.9%\n",
      "Annual volatility: 11.1%\n",
      "Sharpe Ratio: 2.15\n",
      "\n",
      "🔹 Client 11 Portfolio Optimization:\n",
      "OrderedDict([('Equities', 0.16203), ('Fixed Income', 0.0), ('Real Estate', 0.83797), ('Commodities', 0.0), ('Cash', 0.0)])\n",
      "Expected annual return: 31.1%\n",
      "Annual volatility: 13.3%\n",
      "Sharpe Ratio: 2.35\n",
      "\n",
      "🔹 Client 12 Portfolio Optimization:\n",
      "OrderedDict([('Equities', 0.0), ('Fixed Income', 0.06464), ('Real Estate', 0.0), ('Commodities', 0.0), ('Cash', 0.93536)])\n",
      "Expected annual return: 18.5%\n",
      "Annual volatility: 16.5%\n",
      "Sharpe Ratio: 1.12\n",
      "\n",
      "🔹 Client 13 Portfolio Optimization:\n",
      "OrderedDict([('Equities', 0.83125), ('Fixed Income', 0.0), ('Real Estate', 0.13488), ('Commodities', 0.03387), ('Cash', 0.0)])\n",
      "Expected annual return: 29.3%\n",
      "Annual volatility: 12.8%\n",
      "Sharpe Ratio: 2.28\n",
      "\n",
      "🔹 Client 14 Portfolio Optimization:\n",
      "OrderedDict([('Equities', 0.16848), ('Fixed Income', 0.0), ('Real Estate', 0.51857), ('Commodities', 0.0), ('Cash', 0.31295)])\n",
      "Expected annual return: 10.2%\n",
      "Annual volatility: 11.0%\n",
      "Sharpe Ratio: 0.93\n",
      "\n",
      "🔹 Client 15 Portfolio Optimization:\n",
      "OrderedDict([('Equities', 0.32793), ('Fixed Income', 0.0), ('Real Estate', 0.16562), ('Commodities', 0.50645), ('Cash', 0.0)])\n",
      "Expected annual return: 18.9%\n",
      "Annual volatility: 10.7%\n",
      "Sharpe Ratio: 1.76\n",
      "\n",
      "🔹 Client 16 Portfolio Optimization:\n",
      "OrderedDict([('Equities', 0.0), ('Fixed Income', 0.0), ('Real Estate', 0.29126), ('Commodities', 0.07256), ('Cash', 0.63619)])\n",
      "Expected annual return: 46.1%\n",
      "Annual volatility: 10.9%\n",
      "Sharpe Ratio: 4.25\n",
      "\n",
      "🔹 Client 17 Portfolio Optimization:\n",
      "OrderedDict([('Equities', 0.0), ('Fixed Income', 0.00891), ('Real Estate', 0.16675), ('Commodities', 0.82433), ('Cash', 0.0)])\n",
      "Expected annual return: 18.9%\n",
      "Annual volatility: 12.6%\n",
      "Sharpe Ratio: 1.50\n",
      "\n",
      "🔹 Client 18 Portfolio Optimization:\n",
      "OrderedDict([('Equities', 0.14421), ('Fixed Income', 0.33777), ('Real Estate', 0.24038), ('Commodities', 0.0), ('Cash', 0.27764)])\n",
      "Expected annual return: 22.0%\n",
      "Annual volatility: 7.0%\n",
      "Sharpe Ratio: 3.14\n",
      "\n",
      "🔹 Client 19 Portfolio Optimization:\n",
      "OrderedDict([('Equities', 0.05561), ('Fixed Income', 0.63365), ('Real Estate', 0.0), ('Commodities', 0.31075), ('Cash', 0.0)])\n",
      "Expected annual return: 22.5%\n",
      "Annual volatility: 9.2%\n",
      "Sharpe Ratio: 2.44\n",
      "\n",
      "🔹 Client 20 Portfolio Optimization:\n",
      "OrderedDict([('Equities', 0.2135), ('Fixed Income', 0.7865), ('Real Estate', 0.0), ('Commodities', 0.0), ('Cash', 0.0)])\n",
      "Expected annual return: 10.5%\n",
      "Annual volatility: 13.4%\n",
      "Sharpe Ratio: 0.78\n"
     ]
    }
   ],
   "source": [
    "import pandas as pd\n",
    "import numpy as np\n",
    "import matplotlib.pyplot as plt\n",
    "from pypfopt import EfficientFrontier, expected_returns, risk_models\n",
    "\n",
    "\n",
    "\n",
    "\n",
    "# Set random seed for reproducibility\n",
    "np.random.seed(42)\n",
    "\n",
    "# Get unique clients\n",
    "clients = df['client_id'].unique()\n",
    "\n",
    "# Store results\n",
    "all_client_weights = {}\n",
    "\n",
    "# Simulate price data and optimize per client\n",
    "for client in clients:\n",
    "    client_df = df[df['client_id'] == client]\n",
    "    \n",
    "    assets = client_df['asset_class'].values\n",
    "    values = client_df['value'].values\n",
    "    \n",
    "    # Simulate 100 days of prices\n",
    "    dates = pd.date_range(end=pd.Timestamp.today(), periods=100)\n",
    "    price_data = pd.DataFrame(index=dates)\n",
    "\n",
    "    for asset in assets:\n",
    "        price_data[asset] = 100 + np.cumsum(np.random.normal(0, 1, size=100))\n",
    "\n",
    "    mu = expected_returns.mean_historical_return(price_data)\n",
    "    S = risk_models.sample_cov(price_data)\n",
    "\n",
    "    try:\n",
    "        ef = EfficientFrontier(mu, S)\n",
    "        weights = ef.max_sharpe(risk_free_rate=0.0)  # Lower risk-free rate\n",
    "        cleaned = ef.clean_weights()\n",
    "        all_client_weights[client] = cleaned\n",
    "\n",
    "        print(f\"\\n🔹 Client {client} Portfolio Optimization:\")\n",
    "        print(cleaned)\n",
    "        ef.portfolio_performance(verbose=True)\n",
    "    \n",
    "    except ValueError as e:\n",
    "        print(f\"\\n⚠️ Skipping client {client} due to optimization error: {e}\")\n",
    "\n"
   ]
  },
  {
   "cell_type": "code",
   "execution_count": 5,
   "id": "85abedd7-d63b-4ae0-a4f6-757ec3ada80f",
   "metadata": {},
   "outputs": [
    {
     "name": "stdout",
     "output_type": "stream",
     "text": [
      "   client_id  total_portfolio_value\n",
      "0          1              183766.99\n"
     ]
    }
   ],
   "source": [
    "import pandas as pd\n",
    "\n",
    "# Example DataFrame creation (replace with your real data)\n",
    "data = {\n",
    "    'client_id': [1, 1, 1, 1, 1],\n",
    "    'asset_class': ['Equities', 'Fixed Income', 'Real Estate', 'Commodities', 'Cash'],\n",
    "    'allocation_percent': [22.72, 24.72, 12.71, 1.11, 38.74],\n",
    "    'value': [41756.28, 45428.51, 23355.61, 2037.62, 71188.97]\n",
    "}\n",
    "df = pd.DataFrame(data)\n",
    "\n",
    "# Calculate total portfolio value per client\n",
    "total_value = df.groupby('client_id')['value'].sum().reset_index(name='total_portfolio_value')\n",
    "\n",
    "print(total_value)\n"
   ]
  },
  {
   "cell_type": "code",
   "execution_count": 6,
   "id": "c1ad67b6-bea6-41be-b08e-3de442f78d3b",
   "metadata": {},
   "outputs": [
    {
     "name": "stdout",
     "output_type": "stream",
     "text": [
      "   client_id  total_portfolio_value  estimated_net_worth  income_estimate  \\\n",
      "0          1              183766.99            306278.32        125711.94   \n",
      "1          2              100000.00            166666.67         42990.94   \n",
      "\n",
      "   multiplier_used  \n",
      "0             2.44  \n",
      "1             3.88  \n"
     ]
    }
   ],
   "source": [
    "import pandas as pd\n",
    "import numpy as np\n",
    "\n",
    "# 🔹 Step 1: Your data (replace this with full dataset)\n",
    "data = {\n",
    "    'client_id': [1, 1, 1, 1, 1,\n",
    "                  2, 2, 2, 2, 2],\n",
    "    'asset_class': ['Equities', 'Fixed Income', 'Real Estate', 'Commodities', 'Cash']*2,\n",
    "    'allocation_percent': [22.72, 24.72, 12.71, 1.11, 38.74,\n",
    "                           0.0, 0.0, 0.0, 77.95, 22.05],\n",
    "    'value': [41756.28, 45428.51, 23355.61, 2037.62, 71188.97,\n",
    "              0.0, 0.0, 0.0, 77953.0, 22047.0]\n",
    "}\n",
    "\n",
    "df = pd.DataFrame(data)\n",
    "\n",
    "# 🔹 Step 2: Calculate total portfolio value per client\n",
    "portfolio_summary = df.groupby('client_id')['value'].sum().reset_index(name='total_portfolio_value')\n",
    "\n",
    "# 🔹 Step 3: Estimate net worth (assume portfolio = 60% of net worth)\n",
    "portfolio_summary['estimated_net_worth'] = (portfolio_summary['total_portfolio_value'] / 0.6).round(2)\n",
    "\n",
    "# 🔹 Step 4: Estimate income using a random multiplier between 1.5 and 4.0\n",
    "np.random.seed(42)  # for reproducibility\n",
    "multipliers = np.random.uniform(1.5, 4.0, size=len(portfolio_summary))\n",
    "portfolio_summary['income_estimate'] = (portfolio_summary['estimated_net_worth'] / multipliers).round(2)\n",
    "\n",
    "# 🔹 Optional: Add multiplier column if needed\n",
    "portfolio_summary['multiplier_used'] = multipliers.round(2)\n",
    "\n",
    "# 🔹 Final output\n",
    "print(portfolio_summary)\n"
   ]
  },
  {
   "cell_type": "code",
   "execution_count": 6,
   "id": "3ca67a52-6e35-47d1-8745-fe76e6ba4473",
   "metadata": {},
   "outputs": [
    {
     "data": {
      "text/plain": [
       "(Equities        0.051248\n",
       " Fixed Income    0.119287\n",
       " Real Estate    -0.263228\n",
       " Commodities    -0.064829\n",
       " Cash           -0.007138\n",
       " dtype: float64,\n",
       "               Equities  Fixed Income  Real Estate  Commodities      Cash\n",
       " Equities      0.025316      0.004332     0.000198     0.001883 -0.000081\n",
       " Fixed Income  0.004332      0.024904    -0.000327    -0.003087  0.001267\n",
       " Real Estate   0.000198     -0.000327     0.023779     0.001078  0.002132\n",
       " Commodities   0.001883     -0.003087     0.001078     0.021455  0.004498\n",
       " Cash         -0.000081      0.001267     0.002132     0.004498  0.023360)"
      ]
     },
     "execution_count": 6,
     "metadata": {},
     "output_type": "execute_result"
    }
   ],
   "source": [
    "mu = expected_returns.mean_historical_return(price_data)\n",
    "S = risk_models.sample_cov(price_data)\n",
    "\n",
    "mu, S\n"
   ]
  },
  {
   "cell_type": "code",
   "execution_count": 7,
   "id": "87662702-ab51-4c01-9d95-e859f2de919b",
   "metadata": {},
   "outputs": [
    {
     "name": "stdout",
     "output_type": "stream",
     "text": [
      "Optimized Weights:\n",
      "OrderedDict([('Equities', 0.2135), ('Fixed Income', 0.7865), ('Real Estate', 0.0), ('Commodities', 0.0), ('Cash', 0.0)])\n",
      "Expected annual return: 10.5%\n",
      "Annual volatility: 13.4%\n",
      "Sharpe Ratio: 0.78\n"
     ]
    },
    {
     "data": {
      "text/plain": [
       "(0.10476033503948802, 0.13421536930280892, 0.7805390365028452)"
      ]
     },
     "execution_count": 7,
     "metadata": {},
     "output_type": "execute_result"
    }
   ],
   "source": [
    "ef = EfficientFrontier(mu, S)\n",
    "weights = ef.max_sharpe()\n",
    "cleaned_weights = ef.clean_weights()\n",
    "\n",
    "print(\"Optimized Weights:\")\n",
    "print(cleaned_weights)\n",
    "\n",
    "ef.portfolio_performance(verbose=True)\n"
   ]
  },
  {
   "cell_type": "code",
   "execution_count": 9,
   "id": "6b62618e-a667-4ee2-866f-0866b8888eda",
   "metadata": {},
   "outputs": [
    {
     "name": "stdout",
     "output_type": "stream",
     "text": [
      "Optimized Weights:\n",
      "OrderedDict([('Equities', 0.2135), ('Fixed Income', 0.7865), ('Real Estate', 0.0), ('Commodities', 0.0), ('Cash', 0.0)])\n",
      "Expected annual return: 10.5%\n",
      "Annual volatility: 13.4%\n",
      "Sharpe Ratio: 0.78\n"
     ]
    },
    {
     "data": {
      "text/plain": [
       "(0.10476033503948802, 0.13421536930280892, 0.7805390365028452)"
      ]
     },
     "execution_count": 9,
     "metadata": {},
     "output_type": "execute_result"
    }
   ],
   "source": [
    "from pypfopt import EfficientFrontier\n",
    "\n",
    "# Initialize optimizer\n",
    "ef = EfficientFrontier(mu, S)\n",
    "\n",
    "# Maximize Sharpe Ratio portfolio weights\n",
    "weights = ef.max_sharpe()\n",
    "\n",
    "# Clean weights to get readable output\n",
    "cleaned_weights = ef.clean_weights()\n",
    "\n",
    "print(\"Optimized Weights:\")\n",
    "print(cleaned_weights)\n",
    "\n",
    "# Print portfolio performance (returns, volatility, Sharpe ratio)\n",
    "ef.portfolio_performance(verbose=True)\n"
   ]
  },
  {
   "cell_type": "code",
   "execution_count": null,
   "id": "4f259a6d-c7a9-476f-986e-d2234fb2a88b",
   "metadata": {},
   "outputs": [],
   "source": [
    "#Run Mean-Variance Optimization (Maximize Sharpe Ratio)"
   ]
  },
  {
   "cell_type": "code",
   "execution_count": 10,
   "id": "906cfd2c-8e90-40a1-ab42-401b743518fc",
   "metadata": {},
   "outputs": [
    {
     "name": "stdout",
     "output_type": "stream",
     "text": [
      "Optimized Weights:\n",
      "OrderedDict([('Equities', 0.2135), ('Fixed Income', 0.7865), ('Real Estate', 0.0), ('Commodities', 0.0), ('Cash', 0.0)])\n",
      "Expected annual return: 10.5%\n",
      "Annual volatility: 13.4%\n",
      "Sharpe Ratio: 0.78\n"
     ]
    },
    {
     "data": {
      "text/plain": [
       "(0.10476033503948802, 0.13421536930280892, 0.7805390365028452)"
      ]
     },
     "execution_count": 10,
     "metadata": {},
     "output_type": "execute_result"
    }
   ],
   "source": [
    "from pypfopt import EfficientFrontier\n",
    "\n",
    "# Initialize optimizer\n",
    "ef = EfficientFrontier(mu, S)\n",
    "\n",
    "# Maximize Sharpe Ratio portfolio weights\n",
    "weights = ef.max_sharpe()\n",
    "\n",
    "# Clean weights to get readable output\n",
    "cleaned_weights = ef.clean_weights()\n",
    "\n",
    "print(\"Optimized Weights:\")\n",
    "print(cleaned_weights)\n",
    "\n",
    "# Print portfolio performance (returns, volatility, Sharpe ratio)\n",
    "ef.portfolio_performance(verbose=True)\n"
   ]
  },
  {
   "cell_type": "code",
   "execution_count": null,
   "id": "5568cc4f-1269-46b4-a3fb-7ff906c4e732",
   "metadata": {},
   "outputs": [],
   "source": [
    "#Plot Efficient Frontier"
   ]
  },
  {
   "cell_type": "code",
   "execution_count": 12,
   "id": "ad86f952-e966-4bf4-aeae-07851f630b21",
   "metadata": {},
   "outputs": [
    {
     "data": {
      "image/png": "[encoded data removed]",
      "text/plain": [
       "<Figure size 800x600 with 1 Axes>"
      ]
     },
     "metadata": {},
     "output_type": "display_data"
    }
   ],
   "source": [
    "from pypfopt import EfficientFrontier, plotting\n",
    "import matplotlib.pyplot as plt\n",
    "\n",
    "# Re-create the EfficientFrontier object fresh for plotting\n",
    "ef_for_plot = EfficientFrontier(mu, S)\n",
    "\n",
    "fig, ax = plt.subplots(figsize=(8, 6))\n",
    "\n",
    "# Use the fresh instance to plot\n",
    "plotting.plot_efficient_frontier(ef_for_plot, ax=ax, show_assets=True)\n",
    "\n",
    "plt.title(\"Efficient Frontier\")\n",
    "plt.grid(True)\n",
    "plt.show()\n"
   ]
  },
  {
   "cell_type": "code",
   "execution_count": 9,
   "id": "93a9b888-6f97-4608-a85e-78cbfb2deb38",
   "metadata": {},
   "outputs": [
    {
     "name": "stdout",
     "output_type": "stream",
     "text": [
      "✅ Portfolio summary with estimated income exported to 'portfolio_summary_with_income.csv'\n"
     ]
    }
   ],
   "source": [
    "import pandas as pd\n",
    "\n",
    "# Load portfolsio.csv\n",
    "df = pd.read_csv(\"../data/portfolios.csv\")\n",
    "\n",
    "# Group by client_id and compute total portfolio value\n",
    "summary = df.groupby('client_id').agg(total_value=('value', 'sum')).reset_index()\n",
    "\n",
    "# Merge back to calculate allocation percentage if missing\n",
    "df = df.merge(summary, on='client_id')\n",
    "df['calculated_percent'] = (df['value'] / df['total_value']) * 100\n",
    "\n",
    "# Aggregate allocations per asset class\n",
    "pivot = df.pivot_table(index='client_id', \n",
    "                       columns='asset_class', \n",
    "                       values='calculated_percent', \n",
    "                       aggfunc='sum', \n",
    "                       fill_value=0).reset_index()\n",
    "\n",
    "# Merge total value\n",
    "portfolio_summary = pd.merge(pivot, summary, on='client_id')\n",
    "\n",
    "# Estimate net worth (e.g., assume portfolio = 70% of net worth)\n",
    "portfolio_summary['estimated_net_worth'] = (portfolio_summary['total_value'] / 0.7).round(2)\n",
    "\n",
    "# Estimate income (e.g., assume net worth = 3.5 × income)\n",
    "portfolio_summary['estimated_income'] = (portfolio_summary['estimated_net_worth'] / 3.5).round(2)\n",
    "\n",
    "# Reorder columns\n",
    "cols = ['client_id', 'total_value', 'estimated_net_worth', 'estimated_income'] + \\\n",
    "       [col for col in portfolio_summary.columns if col not in ['client_id', 'total_value', 'estimated_net_worth', 'estimated_income']]\n",
    "portfolio_summary = portfolio_summary[cols]\n",
    "\n",
    "# Export to CSV\n",
    "portfolio_summary.to_csv('portfolio_summary_with_income.csv', index=False)\n",
    "print(\"✅ Portfolio summary with estimated income exported to 'portfolio_summary_with_income.csv'\")\n"
   ]
  },
  {
   "cell_type": "code",
   "execution_count": 11,
   "id": "b239d496-09f4-48e7-a560-4c6fd5dd381b",
   "metadata": {},
   "outputs": [
    {
     "name": "stdout",
     "output_type": "stream",
     "text": [
      "    client_id  total_value  estimated_net_worth  estimated_income       Cash  \\\n",
      "0           1    183766.99            262524.27          75006.93  38.738715   \n",
      "1           2    350804.00            501148.57         143185.31  25.865495   \n",
      "2           3    364400.00            520571.43         148734.69   6.924273   \n",
      "3           4     74538.00            106482.86          30423.67  32.175441   \n",
      "4           5    148806.00            212580.00          60737.14  15.908062   \n",
      "5           6    493852.00            705502.86         201572.25   0.740315   \n",
      "6           7    261428.00            373468.57         106705.31  23.094340   \n",
      "7           8    387593.99            553705.70         158201.63   3.124581   \n",
      "8           9    407403.00            582004.29         166286.94   2.346065   \n",
      "9          10    465192.00            664560.00         189874.29   3.768214   \n",
      "10         11    105016.00            150022.86          42863.67  56.438819   \n",
      "11         12     63545.00             90778.57          25936.73  37.436415   \n",
      "12         13    497599.99            710857.13         203102.04  21.637802   \n",
      "13         14    117171.99            167388.56          47825.30  40.432820   \n",
      "14         15    402227.99            574611.41         164174.69   2.559750   \n",
      "15         16    207381.01            296258.59          84645.31  15.141454   \n",
      "16         17    418452.00            597788.57         170796.73  29.606117   \n",
      "17         18    485323.01            693318.59         198091.03  38.621938   \n",
      "18         19    436393.00            623418.57         178119.59   5.531324   \n",
      "19         20    121295.00            173278.57          49508.16  34.777097   \n",
      "\n",
      "    Commodities   Equities  Fixed Income  Real Estate  \n",
      "0      1.108806  22.722405     24.720713    12.709361  \n",
      "1     22.892681   0.097088     29.629599    21.515137  \n",
      "2     22.012577  30.254193     12.215354    28.593603  \n",
      "3     41.464112   2.081905     11.809144    12.469398  \n",
      "4     23.503454  10.245172      6.003851    44.339462  \n",
      "5     16.038613  42.378178     19.575199    21.267696  \n",
      "6     16.089459   4.375472     43.912913    12.527816  \n",
      "7     10.134074  11.184660     20.606398    54.950287  \n",
      "8      7.374997  24.973680     44.700945    20.604313  \n",
      "9     11.346493   7.132608     15.590659    62.162026  \n",
      "10    18.452360  12.677830      3.862078     8.568913  \n",
      "11    21.058950  11.542309      5.712330    24.249996  \n",
      "12    13.036160   7.341152     51.027356     6.957530  \n",
      "13    38.679952   2.177654      9.507187     9.202387  \n",
      "14    33.831581  16.237234      1.820338    45.551097  \n",
      "15    19.302790  10.791755     25.653718    29.110284  \n",
      "16     6.166284   6.298359     25.342880    32.586359  \n",
      "17     2.026321  21.424059     21.495453    16.432229  \n",
      "18     8.770771  15.779499     26.461719    43.456687  \n",
      "19     5.674818  21.254339      7.606455    30.687291  \n"
     ]
    }
   ],
   "source": [
    "print(portfolio_summary)"
   ]
  },
  {
   "cell_type": "code",
   "execution_count": null,
   "id": "48d0824f-10ca-4033-887c-3e38bdc823e2",
   "metadata": {},
   "outputs": [],
   "source": []
  }
 ],
 "metadata": {
  "kernelspec": {
   "display_name": "Python 3 (ipykernel)",
   "language": "python",
   "name": "python3"
  },
  "language_info": {
   "codemirror_mode": {
    "name": "ipython",
    "version": 3
   },
   "file_extension": ".py",
   "mimetype": "text/x-python",
   "name": "python",
   "nbconvert_exporter": "python",
   "pygments_lexer": "ipython3",
   "version": "3.10.0"
  }
 },
 "nbformat": 4,
 "nbformat_minor": 5
}
