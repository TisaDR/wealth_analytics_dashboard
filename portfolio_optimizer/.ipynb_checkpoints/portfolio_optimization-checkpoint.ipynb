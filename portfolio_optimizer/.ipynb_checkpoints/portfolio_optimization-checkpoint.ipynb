{
 "cells": [
  {
   "cell_type": "code",
   "execution_count": 2,
   "id": "e89df60c",
   "metadata": {
    "vscode": {
     "languageId": "plaintext"
    }
   },
   "outputs": [
    {
     "data": {
      "text/html": [
       "<div>\n",
       "<style scoped>\n",
       "    .dataframe tbody tr th:only-of-type {\n",
       "        vertical-align: middle;\n",
       "    }\n",
       "\n",
       "    .dataframe tbody tr th {\n",
       "        vertical-align: top;\n",
       "    }\n",
       "\n",
       "    .dataframe thead th {\n",
       "        text-align: right;\n",
       "    }\n",
       "</style>\n",
       "<table border=\"1\" class=\"dataframe\">\n",
       "  <thead>\n",
       "    <tr style=\"text-align: right;\">\n",
       "      <th></th>\n",
       "      <th>client_id</th>\n",
       "      <th>asset_class</th>\n",
       "      <th>allocation_percent</th>\n",
       "      <th>value</th>\n",
       "    </tr>\n",
       "  </thead>\n",
       "  <tbody>\n",
       "    <tr>\n",
       "      <th>0</th>\n",
       "      <td>1</td>\n",
       "      <td>Equities</td>\n",
       "      <td>22.72</td>\n",
       "      <td>41756.28</td>\n",
       "    </tr>\n",
       "    <tr>\n",
       "      <th>1</th>\n",
       "      <td>1</td>\n",
       "      <td>Fixed Income</td>\n",
       "      <td>24.72</td>\n",
       "      <td>45428.51</td>\n",
       "    </tr>\n",
       "    <tr>\n",
       "      <th>2</th>\n",
       "      <td>1</td>\n",
       "      <td>Real Estate</td>\n",
       "      <td>12.71</td>\n",
       "      <td>23355.61</td>\n",
       "    </tr>\n",
       "    <tr>\n",
       "      <th>3</th>\n",
       "      <td>1</td>\n",
       "      <td>Commodities</td>\n",
       "      <td>1.11</td>\n",
       "      <td>2037.62</td>\n",
       "    </tr>\n",
       "    <tr>\n",
       "      <th>4</th>\n",
       "      <td>1</td>\n",
       "      <td>Cash</td>\n",
       "      <td>38.74</td>\n",
       "      <td>71188.97</td>\n",
       "    </tr>\n",
       "  </tbody>\n",
       "</table>\n",
       "</div>"
      ],
      "text/plain": [
       "   client_id   asset_class  allocation_percent     value\n",
       "0          1      Equities               22.72  41756.28\n",
       "1          1  Fixed Income               24.72  45428.51\n",
       "2          1   Real Estate               12.71  23355.61\n",
       "3          1   Commodities                1.11   2037.62\n",
       "4          1          Cash               38.74  71188.97"
      ]
     },
     "execution_count": 2,
     "metadata": {},
     "output_type": "execute_result"
    }
   ],
   "source": [
    "from pypfopt import expected_returns, risk_models, EfficientFrontier\n",
    "import pandas as pd\n",
    "import numpy as np\n",
    "import matplotlib.pyplot as plt\n",
    "\n",
    "# Load your data\n",
    "df = pd.read_csv(\"../data/portfolios.csv\")\n",
    "\n",
    "# Preview the data\n",
    "df.head()\n"
   ]
  },
  {
   "cell_type": "code",
   "execution_count": 3,
   "id": "28d42a2f-8013-4d0e-9894-7ae54d268da2",
   "metadata": {},
   "outputs": [
    {
     "name": "stdout",
     "output_type": "stream",
     "text": [
      "\n",
      "🔹 Client 1 Portfolio Optimization:\n",
      "OrderedDict([('Equities', 0.0), ('Fixed Income', 0.16849), ('Real Estate', 0.20735), ('Commodities', 0.62416), ('Cash', 0.0)])\n",
      "Expected annual return: 25.1%\n",
      "Annual volatility: 9.2%\n",
      "Sharpe Ratio: 2.74\n",
      "\n",
      "🔹 Client 2 Portfolio Optimization:\n",
      "OrderedDict([('Equities', 0.0), ('Fixed Income', 0.0), ('Real Estate', 0.0), ('Commodities', 0.77953), ('Cash', 0.22047)])\n",
      "Expected annual return: 52.0%\n",
      "Annual volatility: 10.7%\n",
      "Sharpe Ratio: 4.86\n",
      "\n",
      "🔹 Client 3 Portfolio Optimization:\n",
      "OrderedDict([('Equities', 0.34619), ('Fixed Income', 0.14344), ('Real Estate', 0.00284), ('Commodities', 0.0), ('Cash', 0.50754)])\n",
      "Expected annual return: 61.9%\n",
      "Annual volatility: 8.2%\n",
      "Sharpe Ratio: 7.51\n",
      "\n",
      "🔹 Client 4 Portfolio Optimization:\n",
      "OrderedDict([('Equities', 0.0), ('Fixed Income', 0.63929), ('Real Estate', 0.15958), ('Commodities', 0.0), ('Cash', 0.20113)])\n",
      "Expected annual return: 37.6%\n",
      "Annual volatility: 10.0%\n",
      "Sharpe Ratio: 3.76\n",
      "\n",
      "🔹 Client 5 Portfolio Optimization:\n",
      "OrderedDict([('Equities', 0.0), ('Fixed Income', 0.0), ('Real Estate', 0.0), ('Commodities', 0.0), ('Cash', 1.0)])\n",
      "Expected annual return: 26.2%\n",
      "Annual volatility: 13.8%\n",
      "Sharpe Ratio: 1.90\n",
      "\n",
      "🔹 Client 6 Portfolio Optimization:\n",
      "OrderedDict([('Equities', 0.23138), ('Fixed Income', 0.18222), ('Real Estate', 0.38108), ('Commodities', 0.0), ('Cash', 0.20532)])\n",
      "Expected annual return: 11.6%\n",
      "Annual volatility: 7.3%\n",
      "Sharpe Ratio: 1.59\n",
      "\n",
      "🔹 Client 7 Portfolio Optimization:\n",
      "OrderedDict([('Equities', 0.0), ('Fixed Income', 0.0), ('Real Estate', 0.60811), ('Commodities', 0.34649), ('Cash', 0.0454)])\n",
      "Expected annual return: 25.4%\n",
      "Annual volatility: 10.8%\n",
      "Sharpe Ratio: 2.34\n",
      "\n",
      "🔹 Client 8 Portfolio Optimization:\n",
      "OrderedDict([('Equities', 0.20824), ('Fixed Income', 0.56384), ('Real Estate', 0.0), ('Commodities', 0.0), ('Cash', 0.22792)])\n",
      "Expected annual return: 24.7%\n",
      "Annual volatility: 9.5%\n",
      "Sharpe Ratio: 2.60\n",
      "\n",
      "⚠️ Skipping client 9 due to optimization error: at least one of the assets must have an expected return exceeding the risk-free rate\n",
      "\n",
      "🔹 Client 10 Portfolio Optimization:\n",
      "OrderedDict([('Equities', 0.35647), ('Fixed Income', 0.0), ('Real Estate', 0.0), ('Commodities', 0.0), ('Cash', 0.64353)])\n",
      "Expected annual return: 23.9%\n",
      "Annual volatility: 11.1%\n",
      "Sharpe Ratio: 2.15\n",
      "\n",
      "🔹 Client 11 Portfolio Optimization:\n",
      "OrderedDict([('Equities', 0.16203), ('Fixed Income', 0.0), ('Real Estate', 0.83797), ('Commodities', 0.0), ('Cash', 0.0)])\n",
      "Expected annual return: 31.1%\n",
      "Annual volatility: 13.3%\n",
      "Sharpe Ratio: 2.35\n",
      "\n",
      "🔹 Client 12 Portfolio Optimization:\n",
      "OrderedDict([('Equities', 0.0), ('Fixed Income', 0.06464), ('Real Estate', 0.0), ('Commodities', 0.0), ('Cash', 0.93536)])\n",
      "Expected annual return: 18.5%\n",
      "Annual volatility: 16.5%\n",
      "Sharpe Ratio: 1.12\n",
      "\n",
      "🔹 Client 13 Portfolio Optimization:\n",
      "OrderedDict([('Equities', 0.83125), ('Fixed Income', 0.0), ('Real Estate', 0.13488), ('Commodities', 0.03387), ('Cash', 0.0)])\n",
      "Expected annual return: 29.3%\n",
      "Annual volatility: 12.8%\n",
      "Sharpe Ratio: 2.28\n",
      "\n",
      "🔹 Client 14 Portfolio Optimization:\n",
      "OrderedDict([('Equities', 0.16848), ('Fixed Income', 0.0), ('Real Estate', 0.51857), ('Commodities', 0.0), ('Cash', 0.31295)])\n",
      "Expected annual return: 10.2%\n",
      "Annual volatility: 11.0%\n",
      "Sharpe Ratio: 0.93\n",
      "\n",
      "🔹 Client 15 Portfolio Optimization:\n",
      "OrderedDict([('Equities', 0.32793), ('Fixed Income', 0.0), ('Real Estate', 0.16562), ('Commodities', 0.50645), ('Cash', 0.0)])\n",
      "Expected annual return: 18.9%\n",
      "Annual volatility: 10.7%\n",
      "Sharpe Ratio: 1.76\n",
      "\n",
      "🔹 Client 16 Portfolio Optimization:\n",
      "OrderedDict([('Equities', 0.0), ('Fixed Income', 0.0), ('Real Estate', 0.29126), ('Commodities', 0.07256), ('Cash', 0.63619)])\n",
      "Expected annual return: 46.1%\n",
      "Annual volatility: 10.9%\n",
      "Sharpe Ratio: 4.25\n",
      "\n",
      "🔹 Client 17 Portfolio Optimization:\n",
      "OrderedDict([('Equities', 0.0), ('Fixed Income', 0.00891), ('Real Estate', 0.16675), ('Commodities', 0.82433), ('Cash', 0.0)])\n",
      "Expected annual return: 18.9%\n",
      "Annual volatility: 12.6%\n",
      "Sharpe Ratio: 1.50\n",
      "\n",
      "🔹 Client 18 Portfolio Optimization:\n",
      "OrderedDict([('Equities', 0.14421), ('Fixed Income', 0.33777), ('Real Estate', 0.24038), ('Commodities', 0.0), ('Cash', 0.27764)])\n",
      "Expected annual return: 22.0%\n",
      "Annual volatility: 7.0%\n",
      "Sharpe Ratio: 3.14\n",
      "\n",
      "🔹 Client 19 Portfolio Optimization:\n",
      "OrderedDict([('Equities', 0.05561), ('Fixed Income', 0.63365), ('Real Estate', 0.0), ('Commodities', 0.31075), ('Cash', 0.0)])\n",
      "Expected annual return: 22.5%\n",
      "Annual volatility: 9.2%\n",
      "Sharpe Ratio: 2.44\n",
      "\n",
      "🔹 Client 20 Portfolio Optimization:\n",
      "OrderedDict([('Equities', 0.2135), ('Fixed Income', 0.7865), ('Real Estate', 0.0), ('Commodities', 0.0), ('Cash', 0.0)])\n",
      "Expected annual return: 10.5%\n",
      "Annual volatility: 13.4%\n",
      "Sharpe Ratio: 0.78\n"
     ]
    }
   ],
   "source": [
    "import pandas as pd\n",
    "import numpy as np\n",
    "import matplotlib.pyplot as plt\n",
    "from pypfopt import EfficientFrontier, expected_returns, risk_models\n",
    "\n",
    "\n",
    "\n",
    "\n",
    "# Set random seed for reproducibility\n",
    "np.random.seed(42)\n",
    "\n",
    "# Get unique clients\n",
    "clients = df['client_id'].unique()\n",
    "\n",
    "# Store results\n",
    "all_client_weights = {}\n",
    "\n",
    "# Simulate price data and optimize per client\n",
    "for client in clients:\n",
    "    client_df = df[df['client_id'] == client]\n",
    "    \n",
    "    assets = client_df['asset_class'].values\n",
    "    values = client_df['value'].values\n",
    "    \n",
    "    # Simulate 100 days of prices\n",
    "    dates = pd.date_range(end=pd.Timestamp.today(), periods=100)\n",
    "    price_data = pd.DataFrame(index=dates)\n",
    "\n",
    "    for asset in assets:\n",
    "        price_data[asset] = 100 + np.cumsum(np.random.normal(0, 1, size=100))\n",
    "\n",
    "    mu = expected_returns.mean_historical_return(price_data)\n",
    "    S = risk_models.sample_cov(price_data)\n",
    "\n",
    "    try:\n",
    "        ef = EfficientFrontier(mu, S)\n",
    "        weights = ef.max_sharpe(risk_free_rate=0.0)  # Lower risk-free rate\n",
    "        cleaned = ef.clean_weights()\n",
    "        all_client_weights[client] = cleaned\n",
    "\n",
    "        print(f\"\\n🔹 Client {client} Portfolio Optimization:\")\n",
    "        print(cleaned)\n",
    "        ef.portfolio_performance(verbose=True)\n",
    "    \n",
    "    except ValueError as e:\n",
    "        print(f\"\\n⚠️ Skipping client {client} due to optimization error: {e}\")\n",
    "\n"
   ]
  },
  {
   "cell_type": "code",
   "execution_count": 5,
   "id": "85abedd7-d63b-4ae0-a4f6-757ec3ada80f",
   "metadata": {},
   "outputs": [
    {
     "name": "stdout",
     "output_type": "stream",
     "text": [
      "   client_id  total_portfolio_value\n",
      "0          1              183766.99\n"
     ]
    }
   ],
   "source": [
    "import pandas as pd\n",
    "\n",
    "# Example DataFrame creation (replace with your real data)\n",
    "data = {\n",
    "    'client_id': [1, 1, 1, 1, 1],\n",
    "    'asset_class': ['Equities', 'Fixed Income', 'Real Estate', 'Commodities', 'Cash'],\n",
    "    'allocation_percent': [22.72, 24.72, 12.71, 1.11, 38.74],\n",
    "    'value': [41756.28, 45428.51, 23355.61, 2037.62, 71188.97]\n",
    "}\n",
    "df = pd.DataFrame(data)\n",
    "\n",
    "# Calculate total portfolio value per client\n",
    "total_value = df.groupby('client_id')['value'].sum().reset_index(name='total_portfolio_value')\n",
    "\n",
    "print(total_value)\n"
   ]
  },
  {
   "cell_type": "code",
   "execution_count": 6,
   "id": "c1ad67b6-bea6-41be-b08e-3de442f78d3b",
   "metadata": {},
   "outputs": [
    {
     "name": "stdout",
     "output_type": "stream",
     "text": [
      "   client_id  total_portfolio_value  estimated_net_worth  income_estimate  \\\n",
      "0          1              183766.99            306278.32        125711.94   \n",
      "1          2              100000.00            166666.67         42990.94   \n",
      "\n",
      "   multiplier_used  \n",
      "0             2.44  \n",
      "1             3.88  \n"
     ]
    }
   ],
   "source": [
    "import pandas as pd\n",
    "import numpy as np\n",
    "\n",
    "# 🔹 Step 1: Your data (replace this with full dataset)\n",
    "data = {\n",
    "    'client_id': [1, 1, 1, 1, 1,\n",
    "                  2, 2, 2, 2, 2],\n",
    "    'asset_class': ['Equities', 'Fixed Income', 'Real Estate', 'Commodities', 'Cash']*2,\n",
    "    'allocation_percent': [22.72, 24.72, 12.71, 1.11, 38.74,\n",
    "                           0.0, 0.0, 0.0, 77.95, 22.05],\n",
    "    'value': [41756.28, 45428.51, 23355.61, 2037.62, 71188.97,\n",
    "              0.0, 0.0, 0.0, 77953.0, 22047.0]\n",
    "}\n",
    "\n",
    "df = pd.DataFrame(data)\n",
    "\n",
    "# 🔹 Step 2: Calculate total portfolio value per client\n",
    "portfolio_summary = df.groupby('client_id')['value'].sum().reset_index(name='total_portfolio_value')\n",
    "\n",
    "# 🔹 Step 3: Estimate net worth (assume portfolio = 60% of net worth)\n",
    "portfolio_summary['estimated_net_worth'] = (portfolio_summary['total_portfolio_value'] / 0.6).round(2)\n",
    "\n",
    "# 🔹 Step 4: Estimate income using a random multiplier between 1.5 and 4.0\n",
    "np.random.seed(42)  # for reproducibility\n",
    "multipliers = np.random.uniform(1.5, 4.0, size=len(portfolio_summary))\n",
    "portfolio_summary['income_estimate'] = (portfolio_summary['estimated_net_worth'] / multipliers).round(2)\n",
    "\n",
    "# 🔹 Optional: Add multiplier column if needed\n",
    "portfolio_summary['multiplier_used'] = multipliers.round(2)\n",
    "\n",
    "# 🔹 Final output\n",
    "print(portfolio_summary)\n"
   ]
  },
  {
   "cell_type": "code",
   "execution_count": 6,
   "id": "3ca67a52-6e35-47d1-8745-fe76e6ba4473",
   "metadata": {},
   "outputs": [
    {
     "data": {
      "text/plain": [
       "(Equities        0.051248\n",
       " Fixed Income    0.119287\n",
       " Real Estate    -0.263228\n",
       " Commodities    -0.064829\n",
       " Cash           -0.007138\n",
       " dtype: float64,\n",
       "               Equities  Fixed Income  Real Estate  Commodities      Cash\n",
       " Equities      0.025316      0.004332     0.000198     0.001883 -0.000081\n",
       " Fixed Income  0.004332      0.024904    -0.000327    -0.003087  0.001267\n",
       " Real Estate   0.000198     -0.000327     0.023779     0.001078  0.002132\n",
       " Commodities   0.001883     -0.003087     0.001078     0.021455  0.004498\n",
       " Cash         -0.000081      0.001267     0.002132     0.004498  0.023360)"
      ]
     },
     "execution_count": 6,
     "metadata": {},
     "output_type": "execute_result"
    }
   ],
   "source": [
    "mu = expected_returns.mean_historical_return(price_data)\n",
    "S = risk_models.sample_cov(price_data)\n",
    "\n",
    "mu, S\n"
   ]
  },
  {
   "cell_type": "code",
   "execution_count": 7,
   "id": "87662702-ab51-4c01-9d95-e859f2de919b",
   "metadata": {},
   "outputs": [
    {
     "name": "stdout",
     "output_type": "stream",
     "text": [
      "Optimized Weights:\n",
      "OrderedDict([('Equities', 0.2135), ('Fixed Income', 0.7865), ('Real Estate', 0.0), ('Commodities', 0.0), ('Cash', 0.0)])\n",
      "Expected annual return: 10.5%\n",
      "Annual volatility: 13.4%\n",
      "Sharpe Ratio: 0.78\n"
     ]
    },
    {
     "data": {
      "text/plain": [
       "(0.10476033503948802, 0.13421536930280892, 0.7805390365028452)"
      ]
     },
     "execution_count": 7,
     "metadata": {},
     "output_type": "execute_result"
    }
   ],
   "source": [
    "ef = EfficientFrontier(mu, S)\n",
    "weights = ef.max_sharpe()\n",
    "cleaned_weights = ef.clean_weights()\n",
    "\n",
    "print(\"Optimized Weights:\")\n",
    "print(cleaned_weights)\n",
    "\n",
    "ef.portfolio_performance(verbose=True)\n"
   ]
  },
  {
   "cell_type": "code",
   "execution_count": 9,
   "id": "6b62618e-a667-4ee2-866f-0866b8888eda",
   "metadata": {},
   "outputs": [
    {
     "name": "stdout",
     "output_type": "stream",
     "text": [
      "Optimized Weights:\n",
      "OrderedDict([('Equities', 0.2135), ('Fixed Income', 0.7865), ('Real Estate', 0.0), ('Commodities', 0.0), ('Cash', 0.0)])\n",
      "Expected annual return: 10.5%\n",
      "Annual volatility: 13.4%\n",
      "Sharpe Ratio: 0.78\n"
     ]
    },
    {
     "data": {
      "text/plain": [
       "(0.10476033503948802, 0.13421536930280892, 0.7805390365028452)"
      ]
     },
     "execution_count": 9,
     "metadata": {},
     "output_type": "execute_result"
    }
   ],
   "source": [
    "from pypfopt import EfficientFrontier\n",
    "\n",
    "# Initialize optimizer\n",
    "ef = EfficientFrontier(mu, S)\n",
    "\n",
    "# Maximize Sharpe Ratio portfolio weights\n",
    "weights = ef.max_sharpe()\n",
    "\n",
    "# Clean weights to get readable output\n",
    "cleaned_weights = ef.clean_weights()\n",
    "\n",
    "print(\"Optimized Weights:\")\n",
    "print(cleaned_weights)\n",
    "\n",
    "# Print portfolio performance (returns, volatility, Sharpe ratio)\n",
    "ef.portfolio_performance(verbose=True)\n"
   ]
  },
  {
   "cell_type": "code",
   "execution_count": null,
   "id": "4f259a6d-c7a9-476f-986e-d2234fb2a88b",
   "metadata": {},
   "outputs": [],
   "source": [
    "#Run Mean-Variance Optimization (Maximize Sharpe Ratio)"
   ]
  },
  {
   "cell_type": "code",
   "execution_count": 10,
   "id": "906cfd2c-8e90-40a1-ab42-401b743518fc",
   "metadata": {},
   "outputs": [
    {
     "name": "stdout",
     "output_type": "stream",
     "text": [
      "Optimized Weights:\n",
      "OrderedDict([('Equities', 0.2135), ('Fixed Income', 0.7865), ('Real Estate', 0.0), ('Commodities', 0.0), ('Cash', 0.0)])\n",
      "Expected annual return: 10.5%\n",
      "Annual volatility: 13.4%\n",
      "Sharpe Ratio: 0.78\n"
     ]
    },
    {
     "data": {
      "text/plain": [
       "(0.10476033503948802, 0.13421536930280892, 0.7805390365028452)"
      ]
     },
     "execution_count": 10,
     "metadata": {},
     "output_type": "execute_result"
    }
   ],
   "source": [
    "from pypfopt import EfficientFrontier\n",
    "\n",
    "# Initialize optimizer\n",
    "ef = EfficientFrontier(mu, S)\n",
    "\n",
    "# Maximize Sharpe Ratio portfolio weights\n",
    "weights = ef.max_sharpe()\n",
    "\n",
    "# Clean weights to get readable output\n",
    "cleaned_weights = ef.clean_weights()\n",
    "\n",
    "print(\"Optimized Weights:\")\n",
    "print(cleaned_weights)\n",
    "\n",
    "# Print portfolio performance (returns, volatility, Sharpe ratio)\n",
    "ef.portfolio_performance(verbose=True)\n"
   ]
  },
  {
   "cell_type": "code",
   "execution_count": null,
   "id": "5568cc4f-1269-46b4-a3fb-7ff906c4e732",
   "metadata": {},
   "outputs": [],
   "source": [
    "#Plot Efficient Frontier"
   ]
  },
  {
   "cell_type": "code",
   "execution_count": 12,
   "id": "ad86f952-e966-4bf4-aeae-07851f630b21",
   "metadata": {},
   "outputs": [
    {
     "data": {
      "image/png": "[encoded data removed]",
      "text/plain": [
       "<Figure size 800x600 with 1 Axes>"
      ]
     },
     "metadata": {},
     "output_type": "display_data"
    }
   ],
   "source": [
    "from pypfopt import EfficientFrontier, plotting\n",
    "import matplotlib.pyplot as plt\n",
    "\n",
    "# Re-create the EfficientFrontier object fresh for plotting\n",
    "ef_for_plot = EfficientFrontier(mu, S)\n",
    "\n",
    "fig, ax = plt.subplots(figsize=(8, 6))\n",
    "\n",
    "# Use the fresh instance to plot\n",
    "plotting.plot_efficient_frontier(ef_for_plot, ax=ax, show_assets=True)\n",
    "\n",
    "plt.title(\"Efficient Frontier\")\n",
    "plt.grid(True)\n",
    "plt.show()\n"
   ]
  },
  {
   "cell_type": "code",
   "execution_count": 8,
   "id": "93a9b888-6f97-4608-a85e-78cbfb2deb38",
   "metadata": {},
   "outputs": [
    {
     "ename": "FileNotFoundError",
     "evalue": "[Errno 2] No such file or directory: 'portfolios.csv'",
     "output_type": "error",
     "traceback": [
      "\u001b[1;31m---------------------------------------------------------------------------\u001b[0m",
      "\u001b[1;31mFileNotFoundError\u001b[0m                         Traceback (most recent call last)",
      "Cell \u001b[1;32mIn[8], line 4\u001b[0m\n\u001b[0;32m      1\u001b[0m \u001b[38;5;28;01mimport\u001b[39;00m\u001b[38;5;250m \u001b[39m\u001b[38;5;21;01mpandas\u001b[39;00m\u001b[38;5;250m \u001b[39m\u001b[38;5;28;01mas\u001b[39;00m\u001b[38;5;250m \u001b[39m\u001b[38;5;21;01mpd\u001b[39;00m\n\u001b[0;32m      3\u001b[0m \u001b[38;5;66;03m# Load portfolsio.csv\u001b[39;00m\n\u001b[1;32m----> 4\u001b[0m df \u001b[38;5;241m=\u001b[39m \u001b[43mpd\u001b[49m\u001b[38;5;241;43m.\u001b[39;49m\u001b[43mread_csv\u001b[49m\u001b[43m(\u001b[49m\u001b[38;5;124;43m'\u001b[39;49m\u001b[38;5;124;43mportfolios.csv\u001b[39;49m\u001b[38;5;124;43m'\u001b[39;49m\u001b[43m)\u001b[49m\n\u001b[0;32m      6\u001b[0m \u001b[38;5;66;03m# Group by client_id and compute total portfolio value\u001b[39;00m\n\u001b[0;32m      7\u001b[0m summary \u001b[38;5;241m=\u001b[39m df\u001b[38;5;241m.\u001b[39mgroupby(\u001b[38;5;124m'\u001b[39m\u001b[38;5;124mclient_id\u001b[39m\u001b[38;5;124m'\u001b[39m)\u001b[38;5;241m.\u001b[39magg(total_value\u001b[38;5;241m=\u001b[39m(\u001b[38;5;124m'\u001b[39m\u001b[38;5;124mvalue\u001b[39m\u001b[38;5;124m'\u001b[39m, \u001b[38;5;124m'\u001b[39m\u001b[38;5;124msum\u001b[39m\u001b[38;5;124m'\u001b[39m))\u001b[38;5;241m.\u001b[39mreset_index()\n",
      "File \u001b[1;32m~\\AppData\\Local\\Programs\\Python\\Python310\\lib\\site-packages\\pandas\\io\\parsers\\readers.py:1026\u001b[0m, in \u001b[0;36mread_csv\u001b[1;34m(filepath_or_buffer, sep, delimiter, header, names, index_col, usecols, dtype, engine, converters, true_values, false_values, skipinitialspace, skiprows, skipfooter, nrows, na_values, keep_default_na, na_filter, verbose, skip_blank_lines, parse_dates, infer_datetime_format, keep_date_col, date_parser, date_format, dayfirst, cache_dates, iterator, chunksize, compression, thousands, decimal, lineterminator, quotechar, quoting, doublequote, escapechar, comment, encoding, encoding_errors, dialect, on_bad_lines, delim_whitespace, low_memory, memory_map, float_precision, storage_options, dtype_backend)\u001b[0m\n\u001b[0;32m   1013\u001b[0m kwds_defaults \u001b[38;5;241m=\u001b[39m _refine_defaults_read(\n\u001b[0;32m   1014\u001b[0m     dialect,\n\u001b[0;32m   1015\u001b[0m     delimiter,\n\u001b[1;32m   (...)\u001b[0m\n\u001b[0;32m   1022\u001b[0m     dtype_backend\u001b[38;5;241m=\u001b[39mdtype_backend,\n\u001b[0;32m   1023\u001b[0m )\n\u001b[0;32m   1024\u001b[0m kwds\u001b[38;5;241m.\u001b[39mupdate(kwds_defaults)\n\u001b[1;32m-> 1026\u001b[0m \u001b[38;5;28;01mreturn\u001b[39;00m \u001b[43m_read\u001b[49m\u001b[43m(\u001b[49m\u001b[43mfilepath_or_buffer\u001b[49m\u001b[43m,\u001b[49m\u001b[43m \u001b[49m\u001b[43mkwds\u001b[49m\u001b[43m)\u001b[49m\n",
      "File \u001b[1;32m~\\AppData\\Local\\Programs\\Python\\Python310\\lib\\site-packages\\pandas\\io\\parsers\\readers.py:620\u001b[0m, in \u001b[0;36m_read\u001b[1;34m(filepath_or_buffer, kwds)\u001b[0m\n\u001b[0;32m    617\u001b[0m _validate_names(kwds\u001b[38;5;241m.\u001b[39mget(\u001b[38;5;124m\"\u001b[39m\u001b[38;5;124mnames\u001b[39m\u001b[38;5;124m\"\u001b[39m, \u001b[38;5;28;01mNone\u001b[39;00m))\n\u001b[0;32m    619\u001b[0m \u001b[38;5;66;03m# Create the parser.\u001b[39;00m\n\u001b[1;32m--> 620\u001b[0m parser \u001b[38;5;241m=\u001b[39m TextFileReader(filepath_or_buffer, \u001b[38;5;241m*\u001b[39m\u001b[38;5;241m*\u001b[39mkwds)\n\u001b[0;32m    622\u001b[0m \u001b[38;5;28;01mif\u001b[39;00m chunksize \u001b[38;5;129;01mor\u001b[39;00m iterator:\n\u001b[0;32m    623\u001b[0m     \u001b[38;5;28;01mreturn\u001b[39;00m parser\n",
      "File \u001b[1;32m~\\AppData\\Local\\Programs\\Python\\Python310\\lib\\site-packages\\pandas\\io\\parsers\\readers.py:1620\u001b[0m, in \u001b[0;36mTextFileReader.__init__\u001b[1;34m(self, f, engine, **kwds)\u001b[0m\n\u001b[0;32m   1617\u001b[0m     \u001b[38;5;28mself\u001b[39m\u001b[38;5;241m.\u001b[39moptions[\u001b[38;5;124m\"\u001b[39m\u001b[38;5;124mhas_index_names\u001b[39m\u001b[38;5;124m\"\u001b[39m] \u001b[38;5;241m=\u001b[39m kwds[\u001b[38;5;124m\"\u001b[39m\u001b[38;5;124mhas_index_names\u001b[39m\u001b[38;5;124m\"\u001b[39m]\n\u001b[0;32m   1619\u001b[0m \u001b[38;5;28mself\u001b[39m\u001b[38;5;241m.\u001b[39mhandles: IOHandles \u001b[38;5;241m|\u001b[39m \u001b[38;5;28;01mNone\u001b[39;00m \u001b[38;5;241m=\u001b[39m \u001b[38;5;28;01mNone\u001b[39;00m\n\u001b[1;32m-> 1620\u001b[0m \u001b[38;5;28mself\u001b[39m\u001b[38;5;241m.\u001b[39m_engine \u001b[38;5;241m=\u001b[39m \u001b[38;5;28;43mself\u001b[39;49m\u001b[38;5;241;43m.\u001b[39;49m\u001b[43m_make_engine\u001b[49m\u001b[43m(\u001b[49m\u001b[43mf\u001b[49m\u001b[43m,\u001b[49m\u001b[43m \u001b[49m\u001b[38;5;28;43mself\u001b[39;49m\u001b[38;5;241;43m.\u001b[39;49m\u001b[43mengine\u001b[49m\u001b[43m)\u001b[49m\n",
      "File \u001b[1;32m~\\AppData\\Local\\Programs\\Python\\Python310\\lib\\site-packages\\pandas\\io\\parsers\\readers.py:1880\u001b[0m, in \u001b[0;36mTextFileReader._make_engine\u001b[1;34m(self, f, engine)\u001b[0m\n\u001b[0;32m   1878\u001b[0m     \u001b[38;5;28;01mif\u001b[39;00m \u001b[38;5;124m\"\u001b[39m\u001b[38;5;124mb\u001b[39m\u001b[38;5;124m\"\u001b[39m \u001b[38;5;129;01mnot\u001b[39;00m \u001b[38;5;129;01min\u001b[39;00m mode:\n\u001b[0;32m   1879\u001b[0m         mode \u001b[38;5;241m+\u001b[39m\u001b[38;5;241m=\u001b[39m \u001b[38;5;124m\"\u001b[39m\u001b[38;5;124mb\u001b[39m\u001b[38;5;124m\"\u001b[39m\n\u001b[1;32m-> 1880\u001b[0m \u001b[38;5;28mself\u001b[39m\u001b[38;5;241m.\u001b[39mhandles \u001b[38;5;241m=\u001b[39m \u001b[43mget_handle\u001b[49m\u001b[43m(\u001b[49m\n\u001b[0;32m   1881\u001b[0m \u001b[43m    \u001b[49m\u001b[43mf\u001b[49m\u001b[43m,\u001b[49m\n\u001b[0;32m   1882\u001b[0m \u001b[43m    \u001b[49m\u001b[43mmode\u001b[49m\u001b[43m,\u001b[49m\n\u001b[0;32m   1883\u001b[0m \u001b[43m    \u001b[49m\u001b[43mencoding\u001b[49m\u001b[38;5;241;43m=\u001b[39;49m\u001b[38;5;28;43mself\u001b[39;49m\u001b[38;5;241;43m.\u001b[39;49m\u001b[43moptions\u001b[49m\u001b[38;5;241;43m.\u001b[39;49m\u001b[43mget\u001b[49m\u001b[43m(\u001b[49m\u001b[38;5;124;43m\"\u001b[39;49m\u001b[38;5;124;43mencoding\u001b[39;49m\u001b[38;5;124;43m\"\u001b[39;49m\u001b[43m,\u001b[49m\u001b[43m \u001b[49m\u001b[38;5;28;43;01mNone\u001b[39;49;00m\u001b[43m)\u001b[49m\u001b[43m,\u001b[49m\n\u001b[0;32m   1884\u001b[0m \u001b[43m    \u001b[49m\u001b[43mcompression\u001b[49m\u001b[38;5;241;43m=\u001b[39;49m\u001b[38;5;28;43mself\u001b[39;49m\u001b[38;5;241;43m.\u001b[39;49m\u001b[43moptions\u001b[49m\u001b[38;5;241;43m.\u001b[39;49m\u001b[43mget\u001b[49m\u001b[43m(\u001b[49m\u001b[38;5;124;43m\"\u001b[39;49m\u001b[38;5;124;43mcompression\u001b[39;49m\u001b[38;5;124;43m\"\u001b[39;49m\u001b[43m,\u001b[49m\u001b[43m \u001b[49m\u001b[38;5;28;43;01mNone\u001b[39;49;00m\u001b[43m)\u001b[49m\u001b[43m,\u001b[49m\n\u001b[0;32m   1885\u001b[0m \u001b[43m    \u001b[49m\u001b[43mmemory_map\u001b[49m\u001b[38;5;241;43m=\u001b[39;49m\u001b[38;5;28;43mself\u001b[39;49m\u001b[38;5;241;43m.\u001b[39;49m\u001b[43moptions\u001b[49m\u001b[38;5;241;43m.\u001b[39;49m\u001b[43mget\u001b[49m\u001b[43m(\u001b[49m\u001b[38;5;124;43m\"\u001b[39;49m\u001b[38;5;124;43mmemory_map\u001b[39;49m\u001b[38;5;124;43m\"\u001b[39;49m\u001b[43m,\u001b[49m\u001b[43m \u001b[49m\u001b[38;5;28;43;01mFalse\u001b[39;49;00m\u001b[43m)\u001b[49m\u001b[43m,\u001b[49m\n\u001b[0;32m   1886\u001b[0m \u001b[43m    \u001b[49m\u001b[43mis_text\u001b[49m\u001b[38;5;241;43m=\u001b[39;49m\u001b[43mis_text\u001b[49m\u001b[43m,\u001b[49m\n\u001b[0;32m   1887\u001b[0m \u001b[43m    \u001b[49m\u001b[43merrors\u001b[49m\u001b[38;5;241;43m=\u001b[39;49m\u001b[38;5;28;43mself\u001b[39;49m\u001b[38;5;241;43m.\u001b[39;49m\u001b[43moptions\u001b[49m\u001b[38;5;241;43m.\u001b[39;49m\u001b[43mget\u001b[49m\u001b[43m(\u001b[49m\u001b[38;5;124;43m\"\u001b[39;49m\u001b[38;5;124;43mencoding_errors\u001b[39;49m\u001b[38;5;124;43m\"\u001b[39;49m\u001b[43m,\u001b[49m\u001b[43m \u001b[49m\u001b[38;5;124;43m\"\u001b[39;49m\u001b[38;5;124;43mstrict\u001b[39;49m\u001b[38;5;124;43m\"\u001b[39;49m\u001b[43m)\u001b[49m\u001b[43m,\u001b[49m\n\u001b[0;32m   1888\u001b[0m \u001b[43m    \u001b[49m\u001b[43mstorage_options\u001b[49m\u001b[38;5;241;43m=\u001b[39;49m\u001b[38;5;28;43mself\u001b[39;49m\u001b[38;5;241;43m.\u001b[39;49m\u001b[43moptions\u001b[49m\u001b[38;5;241;43m.\u001b[39;49m\u001b[43mget\u001b[49m\u001b[43m(\u001b[49m\u001b[38;5;124;43m\"\u001b[39;49m\u001b[38;5;124;43mstorage_options\u001b[39;49m\u001b[38;5;124;43m\"\u001b[39;49m\u001b[43m,\u001b[49m\u001b[43m \u001b[49m\u001b[38;5;28;43;01mNone\u001b[39;49;00m\u001b[43m)\u001b[49m\u001b[43m,\u001b[49m\n\u001b[0;32m   1889\u001b[0m \u001b[43m\u001b[49m\u001b[43m)\u001b[49m\n\u001b[0;32m   1890\u001b[0m \u001b[38;5;28;01massert\u001b[39;00m \u001b[38;5;28mself\u001b[39m\u001b[38;5;241m.\u001b[39mhandles \u001b[38;5;129;01mis\u001b[39;00m \u001b[38;5;129;01mnot\u001b[39;00m \u001b[38;5;28;01mNone\u001b[39;00m\n\u001b[0;32m   1891\u001b[0m f \u001b[38;5;241m=\u001b[39m \u001b[38;5;28mself\u001b[39m\u001b[38;5;241m.\u001b[39mhandles\u001b[38;5;241m.\u001b[39mhandle\n",
      "File \u001b[1;32m~\\AppData\\Local\\Programs\\Python\\Python310\\lib\\site-packages\\pandas\\io\\common.py:873\u001b[0m, in \u001b[0;36mget_handle\u001b[1;34m(path_or_buf, mode, encoding, compression, memory_map, is_text, errors, storage_options)\u001b[0m\n\u001b[0;32m    868\u001b[0m \u001b[38;5;28;01melif\u001b[39;00m \u001b[38;5;28misinstance\u001b[39m(handle, \u001b[38;5;28mstr\u001b[39m):\n\u001b[0;32m    869\u001b[0m     \u001b[38;5;66;03m# Check whether the filename is to be opened in binary mode.\u001b[39;00m\n\u001b[0;32m    870\u001b[0m     \u001b[38;5;66;03m# Binary mode does not support 'encoding' and 'newline'.\u001b[39;00m\n\u001b[0;32m    871\u001b[0m     \u001b[38;5;28;01mif\u001b[39;00m ioargs\u001b[38;5;241m.\u001b[39mencoding \u001b[38;5;129;01mand\u001b[39;00m \u001b[38;5;124m\"\u001b[39m\u001b[38;5;124mb\u001b[39m\u001b[38;5;124m\"\u001b[39m \u001b[38;5;129;01mnot\u001b[39;00m \u001b[38;5;129;01min\u001b[39;00m ioargs\u001b[38;5;241m.\u001b[39mmode:\n\u001b[0;32m    872\u001b[0m         \u001b[38;5;66;03m# Encoding\u001b[39;00m\n\u001b[1;32m--> 873\u001b[0m         handle \u001b[38;5;241m=\u001b[39m \u001b[38;5;28;43mopen\u001b[39;49m\u001b[43m(\u001b[49m\n\u001b[0;32m    874\u001b[0m \u001b[43m            \u001b[49m\u001b[43mhandle\u001b[49m\u001b[43m,\u001b[49m\n\u001b[0;32m    875\u001b[0m \u001b[43m            \u001b[49m\u001b[43mioargs\u001b[49m\u001b[38;5;241;43m.\u001b[39;49m\u001b[43mmode\u001b[49m\u001b[43m,\u001b[49m\n\u001b[0;32m    876\u001b[0m \u001b[43m            \u001b[49m\u001b[43mencoding\u001b[49m\u001b[38;5;241;43m=\u001b[39;49m\u001b[43mioargs\u001b[49m\u001b[38;5;241;43m.\u001b[39;49m\u001b[43mencoding\u001b[49m\u001b[43m,\u001b[49m\n\u001b[0;32m    877\u001b[0m \u001b[43m            \u001b[49m\u001b[43merrors\u001b[49m\u001b[38;5;241;43m=\u001b[39;49m\u001b[43merrors\u001b[49m\u001b[43m,\u001b[49m\n\u001b[0;32m    878\u001b[0m \u001b[43m            \u001b[49m\u001b[43mnewline\u001b[49m\u001b[38;5;241;43m=\u001b[39;49m\u001b[38;5;124;43m\"\u001b[39;49m\u001b[38;5;124;43m\"\u001b[39;49m\u001b[43m,\u001b[49m\n\u001b[0;32m    879\u001b[0m \u001b[43m        \u001b[49m\u001b[43m)\u001b[49m\n\u001b[0;32m    880\u001b[0m     \u001b[38;5;28;01melse\u001b[39;00m:\n\u001b[0;32m    881\u001b[0m         \u001b[38;5;66;03m# Binary mode\u001b[39;00m\n\u001b[0;32m    882\u001b[0m         handle \u001b[38;5;241m=\u001b[39m \u001b[38;5;28mopen\u001b[39m(handle, ioargs\u001b[38;5;241m.\u001b[39mmode)\n",
      "\u001b[1;31mFileNotFoundError\u001b[0m: [Errno 2] No such file or directory: 'portfolios.csv'"
     ]
    }
   ],
   "source": [
    "import pandas as pd\n",
    "\n",
    "# Load portfolsio.csv\n",
    "df = pd.read_csv(\"../data/portfolios.csv\")\n",
    "\n",
    "# Group by client_id and compute total portfolio value\n",
    "summary = df.groupby('client_id').agg(total_value=('value', 'sum')).reset_index()\n",
    "\n",
    "# Merge back to calculate allocation percentage if missing\n",
    "df = df.merge(summary, on='client_id')\n",
    "df['calculated_percent'] = (df['value'] / df['total_value']) * 100\n",
    "\n",
    "# Aggregate allocations per asset class\n",
    "pivot = df.pivot_table(index='client_id', \n",
    "                       columns='asset_class', \n",
    "                       values='calculated_percent', \n",
    "                       aggfunc='sum', \n",
    "                       fill_value=0).reset_index()\n",
    "\n",
    "# Merge total value\n",
    "portfolio_summary = pd.merge(pivot, summary, on='client_id')\n",
    "\n",
    "# Estimate net worth (e.g., assume portfolio = 70% of net worth)\n",
    "portfolio_summary['estimated_net_worth'] = (portfolio_summary['total_value'] / 0.7).round(2)\n",
    "\n",
    "# Estimate income (e.g., assume net worth = 3.5 × income)\n",
    "portfolio_summary['estimated_income'] = (portfolio_summary['estimated_net_worth'] / 3.5).round(2)\n",
    "\n",
    "# Reorder columns\n",
    "cols = ['client_id', 'total_value', 'estimated_net_worth', 'estimated_income'] + \\\n",
    "       [col for col in portfolio_summary.columns if col not in ['client_id', 'total_value', 'estimated_net_worth', 'estimated_income']]\n",
    "portfolio_summary = portfolio_summary[cols]\n",
    "\n",
    "# Export to CSV\n",
    "portfolio_summary.to_csv('portfolio_summary_with_income.csv', index=False)\n",
    "print(\"✅ Portfolio summary with estimated income exported to 'portfolio_summary_with_income.csv'\")\n"
   ]
  },
  {
   "cell_type": "code",
   "execution_count": null,
   "id": "b239d496-09f4-48e7-a560-4c6fd5dd381b",
   "metadata": {},
   "outputs": [],
   "source": []
  }
 ],
 "metadata": {
  "kernelspec": {
   "display_name": "Python 3 (ipykernel)",
   "language": "python",
   "name": "python3"
  },
  "language_info": {
   "codemirror_mode": {
    "name": "ipython",
    "version": 3
   },
   "file_extension": ".py",
   "mimetype": "text/x-python",
   "name": "python",
   "nbconvert_exporter": "python",
   "pygments_lexer": "ipython3",
   "version": "3.10.0"
  }
 },
 "nbformat": 4,
 "nbformat_minor": 5
}
