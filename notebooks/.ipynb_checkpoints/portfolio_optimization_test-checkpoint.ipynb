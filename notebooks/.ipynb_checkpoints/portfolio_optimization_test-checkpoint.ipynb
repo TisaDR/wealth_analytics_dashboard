{
 "cells": [
  {
   "cell_type": "code",
   "execution_count": null,
   "id": "b235df80",
   "metadata": {
    "vscode": {
     "languageId": "plaintext"
    }
   },
   "outputs": [],
   "source": [
    "import pandas as pd\n",
    "import matplotlib.pyplot as plt\n",
    "from pypfopt import expected_returns, risk_models, EfficientFrontier, plotting\n",
    "\n",
    "# Step 3: Load price data\n",
    "price_data = pd.read_csv(\"price_data.csv\", parse_dates=[\"Date\"], index_col=\"Date\")\n",
    "\n",
    "# Step 4: Calculate expected returns and sample covariance\n",
    "mu = expected_returns.mean_historical_return(price_data)\n",
    "S = risk_models.sample_cov(price_data)\n",
    "\n",
    "# Step 5: Optimize portfolio using max Sharpe ratio\n",
    "ef = EfficientFrontier(mu, S)\n",
    "weights = ef.max_sharpe()\n",
    "cleaned_weights = ef.clean_weights()\n",
    "\n",
    "print(\"Optimized Weights:\")\n",
    "print(cleaned_weights)\n",
    "\n",
    "performance = ef.portfolio_performance(verbose=True)\n",
    "\n",
    "# Step 6: Plot efficient frontier\n",
    "fig, ax = plt.subplots(figsize=(8, 6))\n",
    "plotting.plot_efficient_frontier(ef, ax=ax, show_assets=True)\n",
    "plt.title(\"Efficient Frontier\")\n",
    "plt.grid(True)\n",
    "plt.show()\n"
   ]
  }
 ],
 "metadata": {
  "language_info": {
   "name": "python"
  }
 },
 "nbformat": 4,
 "nbformat_minor": 5
}
